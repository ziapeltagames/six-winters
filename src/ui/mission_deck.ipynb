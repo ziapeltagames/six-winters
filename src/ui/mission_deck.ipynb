{
 "cells": [
  {
   "cell_type": "code",
   "execution_count": 1,
   "id": "556aa78e-8c2e-46a4-af5a-39587c04126b",
   "metadata": {},
   "outputs": [],
   "source": [
    "import ipywidgets as widgets\n",
    "\n",
    "from character_deck import CharacterCard, CharacterDeck"
   ]
  },
  {
   "cell_type": "code",
   "execution_count": 2,
   "id": "92c89a32-6029-450e-8311-2c0f5d16e4f6",
   "metadata": {},
   "outputs": [
    {
     "data": {
      "application/vnd.jupyter.widget-view+json": {
       "model_id": "d20b0538e80c45a9951fff7b646c6eb7",
       "version_major": 2,
       "version_minor": 0
      },
      "text/plain": [
       "HBox(children=(Select(options=('scene', 'other_thing', 'tbd'), value='scene'), Select(options=('scene', 'other…"
      ]
     },
     "metadata": {},
     "output_type": "display_data"
    }
   ],
   "source": [
    "deck = CharacterDeck('../../csv/character-cards.csv')\n",
    "\n",
    "hand = ['scene', 'other_thing', 'tbd']\n",
    "\n",
    "loc1 = widgets.Select(options=hand)\n",
    "loc2 = widgets.Select(options=hand)\n",
    "loc3 = widgets.Select(options=hand)\n",
    "loc4 = widgets.Select(options=hand)\n",
    "\n",
    "widgets.HBox([loc1, loc2, loc3, loc4])"
   ]
  }
 ],
 "metadata": {
  "kernelspec": {
   "display_name": "Python 3",
   "language": "python",
   "name": "python3"
  },
  "language_info": {
   "codemirror_mode": {
    "name": "ipython",
    "version": 3
   },
   "file_extension": ".py",
   "mimetype": "text/x-python",
   "name": "python",
   "nbconvert_exporter": "python",
   "pygments_lexer": "ipython3",
   "version": "3.8.8"
  },
  "toc-autonumbering": false,
  "toc-showcode": false,
  "toc-showmarkdowntxt": false
 },
 "nbformat": 4,
 "nbformat_minor": 5
}
