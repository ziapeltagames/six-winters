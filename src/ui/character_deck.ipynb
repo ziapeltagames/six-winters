{
 "cells": [
  {
   "cell_type": "markdown",
   "id": "ba7f8627-8679-4a55-9727-6db2273344eb",
   "metadata": {},
   "source": [
    "# Character Deck"
   ]
  },
  {
   "cell_type": "code",
   "execution_count": 1,
   "id": "07d9ecb6-431d-4b7c-89f0-c242b7e7cc2b",
   "metadata": {
    "tags": []
   },
   "outputs": [],
   "source": [
    "import ipywidgets as widgets\n",
    "\n",
    "from character_deck import CharacterCard, CharacterDeck"
   ]
  },
  {
   "cell_type": "code",
   "execution_count": 2,
   "id": "7d8b452d-8f96-433d-b5ff-7302dd36113d",
   "metadata": {
    "tags": []
   },
   "outputs": [
    {
     "data": {
      "application/vnd.jupyter.widget-view+json": {
       "model_id": "002c79dfdf8f415b9820c466009c5b44",
       "version_major": 2,
       "version_minor": 0
      },
      "text/plain": [
       "HBox(children=(VBox(children=(Button(description='Draw', style=ButtonStyle()), Button(description='Play', styl…"
      ]
     },
     "metadata": {},
     "output_type": "display_data"
    }
   ],
   "source": [
    "deck = CharacterDeck('../../csv/character-cards.csv')\n",
    "\n",
    "hand = []\n",
    "\n",
    "hand_select = widgets.Select(options=hand, continuous=True, layout=widgets.Layout(width='50%'))\n",
    "\n",
    "draw_text = widgets.Text(description='Draw:', layout=widgets.Layout(width='150px'))\n",
    "discard_text = widgets.Text(description='Discard:', layout=widgets.Layout(width='150px'))\n",
    "\n",
    "def update_status():\n",
    "    hand_select.options = hand    \n",
    "    draw_text.value=str(deck.draw_size())\n",
    "    discard_text.value=str(deck.discard_size())\n",
    "    \n",
    "draw_b = widgets.Button(description='Draw')\n",
    "\n",
    "def draw_button_clicked(draw_b):\n",
    "    next_cc = deck.draw()\n",
    "    hand.append(next_cc)\n",
    "    update_status()    \n",
    "        \n",
    "draw_b.on_click(draw_button_clicked)\n",
    "\n",
    "play_b = widgets.Button(description='Play')\n",
    "\n",
    "def play_button_clicked(play_b):\n",
    "    selected_card = hand_select.value\n",
    "    hand.remove(selected_card)\n",
    "    deck.discard(selected_card)\n",
    "    update_status()\n",
    "        \n",
    "play_b.on_click(play_button_clicked)\n",
    "\n",
    "shuffle_b = widgets.Button(description='Shuffle')\n",
    "\n",
    "def shuffle_button_clicked(shuffle_b):\n",
    "    deck.shuffle()\n",
    "    update_status()\n",
    "    \n",
    "shuffle_b.on_click(shuffle_button_clicked)\n",
    "\n",
    "vb1 = widgets.VBox([draw_b, play_b, shuffle_b])\n",
    "vb2 = widgets.VBox([draw_text, discard_text])\n",
    "\n",
    "update_status()\n",
    "\n",
    "widgets.HBox([vb1, hand_select, vb2])"
   ]
  }
 ],
 "metadata": {
  "kernelspec": {
   "display_name": "Python 3",
   "language": "python",
   "name": "python3"
  },
  "language_info": {
   "codemirror_mode": {
    "name": "ipython",
    "version": 3
   },
   "file_extension": ".py",
   "mimetype": "text/x-python",
   "name": "python",
   "nbconvert_exporter": "python",
   "pygments_lexer": "ipython3",
   "version": "3.8.8"
  }
 },
 "nbformat": 4,
 "nbformat_minor": 5
}
